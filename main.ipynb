{
 "metadata": {
  "language_info": {
   "codemirror_mode": {
    "name": "ipython",
    "version": 3
   },
   "file_extension": ".py",
   "mimetype": "text/x-python",
   "name": "python",
   "nbconvert_exporter": "python",
   "pygments_lexer": "ipython3",
   "version": "3.8.5-final"
  },
  "orig_nbformat": 2,
  "kernelspec": {
   "name": "Python 3.8.5 64-bit ('zalo': conda)",
   "display_name": "Python 3.8.5 64-bit ('zalo': conda)",
   "metadata": {
    "interpreter": {
     "hash": "e6d439398dae1ebc733467eb6f2e24dcb39f1895b3b240b08ffdfbe887056611"
    }
   }
  }
 },
 "nbformat": 4,
 "nbformat_minor": 2,
 "cells": [
  {
   "cell_type": "code",
   "execution_count": 2,
   "metadata": {},
   "outputs": [],
   "source": [
    "import torch\n",
    "from src import ultils"
   ]
  },
  {
   "cell_type": "code",
   "execution_count": 3,
   "metadata": {},
   "outputs": [
    {
     "output_type": "stream",
     "name": "stdout",
     "text": [
      "{'description': 'Traffic Sign Dataset', 'url': '', 'version': '0.1.0', 'year': 2020, 'contributor': 'Zalo.ai', 'date_created': '2020-10-29 10:42:05.806296'}\n"
     ]
    }
   ],
   "source": [
    "# data = ultils.get_data(\"./datasets/za_traffic_2020/traffic_train/train_traffic_sign_dataset.json\")\n",
    "# print(data[\"info\"])"
   ]
  },
  {
   "cell_type": "code",
   "execution_count": null,
   "metadata": {},
   "outputs": [],
   "source": []
  }
 ]
}